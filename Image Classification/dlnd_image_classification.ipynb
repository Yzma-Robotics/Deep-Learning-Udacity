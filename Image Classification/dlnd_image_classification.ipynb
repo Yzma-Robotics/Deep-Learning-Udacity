{
 "cells": [
  {
   "cell_type": "markdown",
   "metadata": {
    "collapsed": true
   },
   "source": [
    "# Image Classification\n",
    "In this project, you'll classify images from the [CIFAR-10 dataset](https://www.cs.toronto.edu/~kriz/cifar.html).  The dataset consists of airplanes, dogs, cats, and other objects. You'll preprocess the images, then train a convolutional neural network on all the samples. The images need to be normalized and the labels need to be one-hot encoded.  You'll get to apply what you learned and build a convolutional, max pooling, dropout, and fully connected layers.  At the end, you'll get to see your neural network's predictions on the sample images.\n",
    "## Get the Data\n",
    "Run the following cell to download the [CIFAR-10 dataset for python](https://www.cs.toronto.edu/~kriz/cifar-10-python.tar.gz)."
   ]
  },
  {
   "cell_type": "code",
   "execution_count": 2,
   "metadata": {},
   "outputs": [
    {
     "name": "stdout",
     "output_type": "stream",
     "text": [
      "All files found!\n"
     ]
    }
   ],
   "source": [
    "\"\"\"\n",
    "DON'T MODIFY ANYTHING IN THIS CELL THAT IS BELOW THIS LINE\n",
    "\"\"\"\n",
    "from urllib.request import urlretrieve\n",
    "from os.path import isfile, isdir\n",
    "from tqdm import tqdm\n",
    "import problem_unittests as tests\n",
    "import tarfile\n",
    "\n",
    "cifar10_dataset_folder_path = 'cifar-10-batches-py'\n",
    "\n",
    "# Use Floyd's cifar-10 dataset if present\n",
    "floyd_cifar10_location = '/input/cifar-10/python.tar.gz'\n",
    "if isfile(floyd_cifar10_location):\n",
    "    tar_gz_path = floyd_cifar10_location\n",
    "else:\n",
    "    tar_gz_path = 'cifar-10-python.tar.gz'\n",
    "\n",
    "class DLProgress(tqdm):\n",
    "    last_block = 0\n",
    "\n",
    "    def hook(self, block_num=1, block_size=1, total_size=None):\n",
    "        self.total = total_size\n",
    "        self.update((block_num - self.last_block) * block_size)\n",
    "        self.last_block = block_num\n",
    "\n",
    "if not isfile(tar_gz_path):\n",
    "    with DLProgress(unit='B', unit_scale=True, miniters=1, desc='CIFAR-10 Dataset') as pbar:\n",
    "        urlretrieve(\n",
    "            'https://www.cs.toronto.edu/~kriz/cifar-10-python.tar.gz',\n",
    "            tar_gz_path,\n",
    "            pbar.hook)\n",
    "\n",
    "if not isdir(cifar10_dataset_folder_path):\n",
    "    with tarfile.open(tar_gz_path) as tar:\n",
    "        tar.extractall()\n",
    "        tar.close()\n",
    "\n",
    "\n",
    "tests.test_folder_path(cifar10_dataset_folder_path)"
   ]
  },
  {
   "cell_type": "markdown",
   "metadata": {},
   "source": [
    "## Explore the Data\n",
    "The dataset is broken into batches to prevent your machine from running out of memory.  The CIFAR-10 dataset consists of 5 batches, named `data_batch_1`, `data_batch_2`, etc.. Each batch contains the labels and images that are one of the following:\n",
    "* airplane\n",
    "* automobile\n",
    "* bird\n",
    "* cat\n",
    "* deer\n",
    "* dog\n",
    "* frog\n",
    "* horse\n",
    "* ship\n",
    "* truck\n",
    "\n",
    "Understanding a dataset is part of making predictions on the data.  Play around with the code cell below by changing the `batch_id` and `sample_id`. The `batch_id` is the id for a batch (1-5). The `sample_id` is the id for a image and label pair in the batch.\n",
    "\n",
    "Ask yourself \"What are all possible labels?\", \"What is the range of values for the image data?\", \"Are the labels in order or random?\".  Answers to questions like these will help you preprocess the data and end up with better predictions."
   ]
  },
  {
   "cell_type": "code",
   "execution_count": 3,
   "metadata": {},
   "outputs": [
    {
     "name": "stdout",
     "output_type": "stream",
     "text": [
      "\n",
      "Stats of batch 1:\n",
      "Samples: 10000\n",
      "Label Counts: {0: 1005, 1: 974, 2: 1032, 3: 1016, 4: 999, 5: 937, 6: 1030, 7: 1001, 8: 1025, 9: 981}\n",
      "First 20 Labels: [6, 9, 9, 4, 1, 1, 2, 7, 8, 3, 4, 7, 7, 2, 9, 9, 9, 3, 2, 6]\n",
      "\n",
      "Example of Image 7:\n",
      "Image - Min Value: 9 Max Value: 248\n",
      "Image - Shape: (32, 32, 3)\n",
      "Label - Label Id: 7 Name: horse\n"
     ]
    },
    {
     "data": {
      "image/png": "[encoded data removed]",
      "text/plain": [
       "<matplotlib.figure.Figure at 0x11f0940b8>"
      ]
     },
     "metadata": {
      "image/png": {
       "height": 250,
       "width": 253
      }
     },
     "output_type": "display_data"
    }
   ],
   "source": [
    "%matplotlib inline\n",
    "%config InlineBackend.figure_format = 'retina'\n",
    "\n",
    "import helper\n",
    "import numpy as np\n",
    "\n",
    "# Explore the dataset\n",
    "batch_id = 1\n",
    "sample_id = 7\n",
    "helper.display_stats(cifar10_dataset_folder_path, batch_id, sample_id)"
   ]
  },
  {
   "cell_type": "markdown",
   "metadata": {},
   "source": [
    "## Implement Preprocess Functions\n",
    "### Normalize\n",
    "In the cell below, implement the `normalize` function to take in image data, `x`, and return it as a normalized Numpy array. The values should be in the range of 0 to 1, inclusive.  The return object should be the same shape as `x`."
   ]
  },
  {
   "cell_type": "code",
   "execution_count": 4,
   "metadata": {},
   "outputs": [
    {
     "name": "stdout",
     "output_type": "stream",
     "text": [
      "Tests Passed\n"
     ]
    }
   ],
   "source": [
    "def normalize(x):\n",
    "    \"\"\"\n",
    "    Normalize a list of sample image data in the range of 0 to 1\n",
    "    : x: List of image data.  The image shape is (32, 32, 3)\n",
    "    : return: Numpy array of normalize data\n",
    "    \"\"\"\n",
    "    # TODO: Implement Function\n",
    "    return x/255\n",
    "\n",
    "\n",
    "\"\"\"\n",
    "DON'T MODIFY ANYTHING IN THIS CELL THAT IS BELOW THIS LINE\n",
    "\"\"\"\n",
    "tests.test_normalize(normalize)"
   ]
  },
  {
   "cell_type": "markdown",
   "metadata": {},
   "source": [
    "### One-hot encode\n",
    "Just like the previous code cell, you'll be implementing a function for preprocessing.  This time, you'll implement the `one_hot_encode` function. The input, `x`, are a list of labels.  Implement the function to return the list of labels as One-Hot encoded Numpy array.  The possible values for labels are 0 to 9. The one-hot encoding function should return the same encoding for each value between each call to `one_hot_encode`.  Make sure to save the map of encodings outside the function.\n",
    "\n",
    "Hint: Don't reinvent the wheel."
   ]
  },
  {
   "cell_type": "code",
   "execution_count": 5,
   "metadata": {},
   "outputs": [
    {
     "name": "stdout",
     "output_type": "stream",
     "text": [
      "Tests Passed\n"
     ]
    }
   ],
   "source": [
    "from sklearn.preprocessing import LabelBinarizer\n",
    "\n",
    "lb = LabelBinarizer()\n",
    "classes = list(range(10))\n",
    "lb.fit(classes)\n",
    "\n",
    "def one_hot_encode(x):\n",
    "    \"\"\"\n",
    "    One hot encode a list of sample labels. Return a one-hot encoded vector for each label.\n",
    "    : x: List of sample Labels\n",
    "    : return: Numpy array of one-hot encoded labels\n",
    "    \"\"\"\n",
    "    # TODO: Implement Function\n",
    "    return lb.transform(x)\n",
    "\n",
    "\n",
    "\"\"\"\n",
    "DON'T MODIFY ANYTHING IN THIS CELL THAT IS BELOW THIS LINE\n",
    "\"\"\"\n",
    "tests.test_one_hot_encode(one_hot_encode)"
   ]
  },
  {
   "cell_type": "markdown",
   "metadata": {},
   "source": [
    "### Randomize Data\n",
    "As you saw from exploring the data above, the order of the samples are randomized.  It doesn't hurt to randomize it again, but you don't need to for this dataset."
   ]
  },
  {
   "cell_type": "markdown",
   "metadata": {},
   "source": [
    "## Preprocess all the data and save it\n",
    "Running the code cell below will preprocess all the CIFAR-10 data and save it to file. The code below also uses 10% of the training data for validation."
   ]
  },
  {
   "cell_type": "code",
   "execution_count": 6,
   "metadata": {
    "collapsed": true
   },
   "outputs": [],
   "source": [
    "\"\"\"\n",
    "DON'T MODIFY ANYTHING IN THIS CELL\n",
    "\"\"\"\n",
    "# Preprocess Training, Validation, and Testing Data\n",
    "helper.preprocess_and_save_data(cifar10_dataset_folder_path, normalize, one_hot_encode)"
   ]
  },
  {
   "cell_type": "markdown",
   "metadata": {},
   "source": [
    "# Check Point\n",
    "This is your first checkpoint.  If you ever decide to come back to this notebook or have to restart the notebook, you can start from here.  The preprocessed data has been saved to disk."
   ]
  },
  {
   "cell_type": "code",
   "execution_count": 7,
   "metadata": {
    "collapsed": true
   },
   "outputs": [],
   "source": [
    "\"\"\"\n",
    "DON'T MODIFY ANYTHING IN THIS CELL\n",
    "\"\"\"\n",
    "import pickle\n",
    "import problem_unittests as tests\n",
    "import helper\n",
    "\n",
    "# Load the Preprocessed Validation data\n",
    "valid_features, valid_labels = pickle.load(open('preprocess_validation.p', mode='rb'))"
   ]
  },
  {
   "cell_type": "markdown",
   "metadata": {},
   "source": [
    "## Build the network\n",
    "For the neural network, you'll build each layer into a function.  Most of the code you've seen has been outside of functions. To test your code more thoroughly, we require that you put each layer in a function.  This allows us to give you better feedback and test for simple mistakes using our unittests before you submit your project.\n",
    "\n",
    ">**Note:** If you're finding it hard to dedicate enough time for this course each week, we've provided a small shortcut to this part of the project. In the next couple of problems, you'll have the option to use classes from the [TensorFlow Layers](https://www.tensorflow.org/api_docs/python/tf/layers) or [TensorFlow Layers (contrib)](https://www.tensorflow.org/api_guides/python/contrib.layers) packages to build each layer, except the layers you build in the \"Convolutional and Max Pooling Layer\" section.  TF Layers is similar to Keras's and TFLearn's abstraction to layers, so it's easy to pickup.\n",
    "\n",
    ">However, if you would like to get the most out of this course, try to solve all the problems _without_ using anything from the TF Layers packages. You **can** still use classes from other packages that happen to have the same name as ones you find in TF Layers! For example, instead of using the TF Layers version of the `conv2d` class, [tf.layers.conv2d](https://www.tensorflow.org/api_docs/python/tf/layers/conv2d), you would want to use the TF Neural Network version of `conv2d`, [tf.nn.conv2d](https://www.tensorflow.org/api_docs/python/tf/nn/conv2d). \n",
    "\n",
    "Let's begin!\n",
    "\n",
    "### Input\n",
    "The neural network needs to read the image data, one-hot encoded labels, and dropout keep probability. Implement the following functions\n",
    "* Implement `neural_net_image_input`\n",
    " * Return a [TF Placeholder](https://www.tensorflow.org/api_docs/python/tf/placeholder)\n",
    " * Set the shape using `image_shape` with batch size set to `None`.\n",
    " * Name the TensorFlow placeholder \"x\" using the TensorFlow `name` parameter in the [TF Placeholder](https://www.tensorflow.org/api_docs/python/tf/placeholder).\n",
    "* Implement `neural_net_label_input`\n",
    " * Return a [TF Placeholder](https://www.tensorflow.org/api_docs/python/tf/placeholder)\n",
    " * Set the shape using `n_classes` with batch size set to `None`.\n",
    " * Name the TensorFlow placeholder \"y\" using the TensorFlow `name` parameter in the [TF Placeholder](https://www.tensorflow.org/api_docs/python/tf/placeholder).\n",
    "* Implement `neural_net_keep_prob_input`\n",
    " * Return a [TF Placeholder](https://www.tensorflow.org/api_docs/python/tf/placeholder) for dropout keep probability.\n",
    " * Name the TensorFlow placeholder \"keep_prob\" using the TensorFlow `name` parameter in the [TF Placeholder](https://www.tensorflow.org/api_docs/python/tf/placeholder).\n",
    "\n",
    "These names will be used at the end of the project to load your saved model.\n",
    "\n",
    "Note: `None` for shapes in TensorFlow allow for a dynamic size."
   ]
  },
  {
   "cell_type": "code",
   "execution_count": 8,
   "metadata": {},
   "outputs": [
    {
     "name": "stdout",
     "output_type": "stream",
     "text": [
      "Image Input Tests Passed.\n",
      "Label Input Tests Passed.\n",
      "Keep Prob Tests Passed.\n"
     ]
    }
   ],
   "source": [
    "import tensorflow as tf\n",
    "\n",
    "def neural_net_image_input(image_shape):\n",
    "    \"\"\"\n",
    "    Return a Tensor for a batch of image input\n",
    "    : image_shape: Shape of the images\n",
    "    : return: Tensor for image input.\n",
    "    \"\"\"\n",
    "    # TODO: Implement Function\n",
    "    return tf.placeholder(tf.float32, [None, image_shape[0], image_shape[1], image_shape[2]], name='x')\n",
    "\n",
    "\n",
    "def neural_net_label_input(n_classes):\n",
    "    \"\"\"\n",
    "    Return a Tensor for a batch of label input\n",
    "    : n_classes: Number of classes\n",
    "    : return: Tensor for label input.\n",
    "    \"\"\"\n",
    "    # TODO: Implement Function\n",
    "    return tf.placeholder(tf.float32, [None, n_classes], name='y')\n",
    "\n",
    "\n",
    "def neural_net_keep_prob_input():\n",
    "    \"\"\"\n",
    "    Return a Tensor for keep probability\n",
    "    : return: Tensor for keep probability.\n",
    "    \"\"\"\n",
    "    # TODO: Implement Function\n",
    "    return tf.placeholder(tf.float32, name='keep_prob')\n",
    "\n",
    "\n",
    "\"\"\"\n",
    "DON'T MODIFY ANYTHING IN THIS CELL THAT IS BELOW THIS LINE\n",
    "\"\"\"\n",
    "tf.reset_default_graph()\n",
    "tests.test_nn_image_inputs(neural_net_image_input)\n",
    "tests.test_nn_label_inputs(neural_net_label_input)\n",
    "tests.test_nn_keep_prob_inputs(neural_net_keep_prob_input)"
   ]
  },
  {
   "cell_type": "markdown",
   "metadata": {},
   "source": [
    "### Convolution and Max Pooling Layer\n",
    "Convolution layers have a lot of success with images. For this code cell, you should implement the function `conv2d_maxpool` to apply convolution then max pooling:\n",
    "* Create the weight and bias using `conv_ksize`, `conv_num_outputs` and the shape of `x_tensor`.\n",
    "* Apply a convolution to `x_tensor` using weight and `conv_strides`.\n",
    " * We recommend you use same padding, but you're welcome to use any padding.\n",
    "* Add bias\n",
    "* Add a nonlinear activation to the convolution.\n",
    "* Apply Max Pooling using `pool_ksize` and `pool_strides`.\n",
    " * We recommend you use same padding, but you're welcome to use any padding.\n",
    "\n",
    "**Note:** You **can't** use [TensorFlow Layers](https://www.tensorflow.org/api_docs/python/tf/layers) or [TensorFlow Layers (contrib)](https://www.tensorflow.org/api_guides/python/contrib.layers) for **this** layer, but you can still use TensorFlow's [Neural Network](https://www.tensorflow.org/api_docs/python/tf/nn) package. You may still use the shortcut option for all the **other** layers."
   ]
  },
  {
   "cell_type": "code",
   "execution_count": 9,
   "metadata": {},
   "outputs": [
    {
     "name": "stdout",
     "output_type": "stream",
     "text": [
      "Tests Passed\n"
     ]
    }
   ],
   "source": [
    "def conv2d_maxpool(x_tensor, conv_num_outputs, conv_ksize, conv_strides, pool_ksize, pool_strides):\n",
    "    \"\"\"\n",
    "    Apply convolution then max pooling to x_tensor\n",
    "    :param x_tensor: TensorFlow Tensor\n",
    "    :param conv_num_outputs: Number of outputs for the convolutional layer\n",
    "    :param conv_ksize: kernal size 2-D Tuple for the convolutional layer\n",
    "    :param conv_strides: Stride 2-D Tuple for convolution\n",
    "    :param pool_ksize: kernal size 2-D Tuple for pool\n",
    "    :param pool_strides: Stride 2-D Tuple for pool\n",
    "    : return: A tensor that represents convolution and max pooling of x_tensor\n",
    "    \"\"\"\n",
    "    # TODO: Implement Function\n",
    "    W = tf.Variable(tf.random_normal([conv_ksize[0], conv_ksize[1], x_tensor.get_shape().as_list()[-1], conv_num_outputs], mean=0.0, stddev=0.1))\n",
    "    bias = tf.Variable(tf.zeros(conv_num_outputs, dtype=tf.float32))\n",
    "    strides = [1, conv_strides[0], conv_strides[1], 1]\n",
    "    conv = tf.nn.conv2d(x_tensor, W, strides=strides, padding='SAME')\n",
    "    conv = tf.nn.bias_add(conv, bias)\n",
    "    conv = tf.nn.relu(conv)\n",
    "    conv = tf.nn.max_pool(conv, ksize=[1, pool_ksize[0], pool_ksize[1], 1], strides=[1, pool_strides[0], pool_strides[1], 1], padding='SAME')\n",
    "    return conv\n",
    "\n",
    "\n",
    "\"\"\"\n",
    "DON'T MODIFY ANYTHING IN THIS CELL THAT IS BELOW THIS LINE\n",
    "\"\"\"\n",
    "tests.test_con_pool(conv2d_maxpool)"
   ]
  },
  {
   "cell_type": "markdown",
   "metadata": {},
   "source": [
    "### Flatten Layer\n",
    "Implement the `flatten` function to change the dimension of `x_tensor` from a 4-D tensor to a 2-D tensor.  The output should be the shape (*Batch Size*, *Flattened Image Size*). Shortcut option: you can use classes from the [TensorFlow Layers](https://www.tensorflow.org/api_docs/python/tf/layers) or [TensorFlow Layers (contrib)](https://www.tensorflow.org/api_guides/python/contrib.layers) packages for this layer. For more of a challenge, only use other TensorFlow packages."
   ]
  },
  {
   "cell_type": "code",
   "execution_count": 10,
   "metadata": {},
   "outputs": [
    {
     "name": "stdout",
     "output_type": "stream",
     "text": [
      "Tests Passed\n"
     ]
    }
   ],
   "source": [
    "def flatten(x_tensor):\n",
    "    \"\"\"\n",
    "    Flatten x_tensor to (Batch Size, Flattened Image Size)\n",
    "    : x_tensor: A tensor of size (Batch Size, ...), where ... are the image dimensions.\n",
    "    : return: A tensor of size (Batch Size, Flattened Image Size).\n",
    "    \"\"\"\n",
    "    # TODO: Implement Function\n",
    "    num_elements = np.array(x_tensor.get_shape().as_list()[1:]).prod()\n",
    "    return tf.reshape(x_tensor, [-1, num_elements])\n",
    "\n",
    "\n",
    "\"\"\"\n",
    "DON'T MODIFY ANYTHING IN THIS CELL THAT IS BELOW THIS LINE\n",
    "\"\"\"\n",
    "tests.test_flatten(flatten)"
   ]
  },
  {
   "cell_type": "markdown",
   "metadata": {},
   "source": [
    "### Fully-Connected Layer\n",
    "Implement the `fully_conn` function to apply a fully connected layer to `x_tensor` with the shape (*Batch Size*, *num_outputs*). Shortcut option: you can use classes from the [TensorFlow Layers](https://www.tensorflow.org/api_docs/python/tf/layers) or [TensorFlow Layers (contrib)](https://www.tensorflow.org/api_guides/python/contrib.layers) packages for this layer. For more of a challenge, only use other TensorFlow packages."
   ]
  },
  {
   "cell_type": "code",
   "execution_count": 12,
   "metadata": {},
   "outputs": [
    {
     "name": "stdout",
     "output_type": "stream",
     "text": [
      "Tests Passed\n"
     ]
    }
   ],
   "source": [
    "def fully_conn(x_tensor, num_outputs):\n",
    "    \"\"\"\n",
    "    Apply a fully connected layer to x_tensor using weight and bias\n",
    "    : x_tensor: A 2-D tensor where the first dimension is batch size.\n",
    "    : num_outputs: The number of output that the new tensor should be.\n",
    "    : return: A 2-D tensor where the second dimension is num_outputs.\n",
    "    \"\"\"\n",
    "    # TODO: Implement Function\n",
    "    num_elements = np.array(x_tensor.get_shape().as_list()[1:]).prod()\n",
    "    W = tf.Variable(tf.random_normal([num_elements, num_outputs], mean=0.0, stddev=0.1))\n",
    "    bias = tf.Variable(tf.zeros([num_outputs], dtype=tf.float32))\n",
    "    lay = tf.add(tf.matmul(x_tensor, W), bias)\n",
    "    lay = tf.nn.relu(lay)\n",
    "    return lay\n",
    "\n",
    "\n",
    "\"\"\"\n",
    "DON'T MODIFY ANYTHING IN THIS CELL THAT IS BELOW THIS LINE\n",
    "\"\"\"\n",
    "tests.test_fully_conn(fully_conn)"
   ]
  },
  {
   "cell_type": "markdown",
   "metadata": {},
   "source": [
    "### Output Layer\n",
    "Implement the `output` function to apply a fully connected layer to `x_tensor` with the shape (*Batch Size*, *num_outputs*). Shortcut option: you can use classes from the [TensorFlow Layers](https://www.tensorflow.org/api_docs/python/tf/layers) or [TensorFlow Layers (contrib)](https://www.tensorflow.org/api_guides/python/contrib.layers) packages for this layer. For more of a challenge, only use other TensorFlow packages.\n",
    "\n",
    "**Note:** Activation, softmax, or cross entropy should **not** be applied to this."
   ]
  },
  {
   "cell_type": "code",
   "execution_count": 13,
   "metadata": {},
   "outputs": [
    {
     "name": "stdout",
     "output_type": "stream",
     "text": [
      "Tests Passed\n"
     ]
    }
   ],
   "source": [
    "def output(x_tensor, num_outputs):\n",
    "    \"\"\"\n",
    "    Apply a output layer to x_tensor using weight and bias\n",
    "    : x_tensor: A 2-D tensor where the first dimension is batch size.\n",
    "    : num_outputs: The number of output that the new tensor should be.\n",
    "    : return: A 2-D tensor where the second dimension is num_outputs.\n",
    "    \"\"\"\n",
    "    # TODO: Implement Function\n",
    "    num_elements = np.array(x_tensor.get_shape().as_list()[1:]).prod()\n",
    "    W = tf.Variable(tf.random_normal([num_elements, num_outputs], mean=0.0, stddev=0.1))\n",
    "    bias = tf.Variable(tf.zeros([num_outputs], dtype=tf.float32))\n",
    "    out = tf.add(tf.matmul(x_tensor, W), bias)\n",
    "    return out\n",
    "\n",
    "\n",
    "\"\"\"\n",
    "DON'T MODIFY ANYTHING IN THIS CELL THAT IS BELOW THIS LINE\n",
    "\"\"\"\n",
    "tests.test_output(output)"
   ]
  },
  {
   "cell_type": "markdown",
   "metadata": {},
   "source": [
    "### Create Convolutional Model\n",
    "Implement the function `conv_net` to create a convolutional neural network model. The function takes in a batch of images, `x`, and outputs logits.  Use the layers you created above to create this model:\n",
    "\n",
    "* Apply 1, 2, or 3 Convolution and Max Pool layers\n",
    "* Apply a Flatten Layer\n",
    "* Apply 1, 2, or 3 Fully Connected Layers\n",
    "* Apply an Output Layer\n",
    "* Return the output\n",
    "* Apply [TensorFlow's Dropout](https://www.tensorflow.org/api_docs/python/tf/nn/dropout) to one or more layers in the model using `keep_prob`. "
   ]
  },
  {
   "cell_type": "code",
   "execution_count": 44,
   "metadata": {},
   "outputs": [
    {
     "name": "stdout",
     "output_type": "stream",
     "text": [
      "Neural Network Built!\n"
     ]
    }
   ],
   "source": [
    "def conv_net(x, keep_prob):\n",
    "    \"\"\"\n",
    "    Create a convolutional neural network model\n",
    "    : x: Placeholder tensor that holds image data.\n",
    "    : keep_prob: Placeholder tensor that hold dropout keep probability.\n",
    "    : return: Tensor that represents logits\n",
    "    \"\"\"\n",
    "    # TODO: Apply 1, 2, or 3 Convolution and Max Pool layers\n",
    "    #    Play around with different number of outputs, kernel size and stride\n",
    "    # Function Definition from Above:\n",
    "    #    conv2d_maxpool(x_tensor, conv_num_outputs, conv_ksize, conv_strides, pool_ksize, pool_strides)\n",
    "    x = conv2d_maxpool(x, 8, (8, 8), (1, 1), (2, 2), (2, 2))\n",
    "    x = conv2d_maxpool(x, 16, (4, 4), (1, 1), (2, 2), (2, 2))\n",
    "    x = conv2d_maxpool(x, 32, (2, 2), (1, 1), (2, 2), (2, 2))\n",
    "    \n",
    "\n",
    "    # TODO: Apply a Flatten Layer\n",
    "    # Function Definition from Above:\n",
    "    #   flatten(x_tensor)\n",
    "    x = flatten(x)\n",
    "    \n",
    "\n",
    "    # TODO: Apply 1, 2, or 3 Fully Connected Layers\n",
    "    #    Play around with different number of outputs\n",
    "    # Function Definition from Above:\n",
    "    #   fully_conn(x_tensor, num_outputs)\n",
    "    x = fully_conn(x, 1024)\n",
    "    x = tf.nn.dropout(x, keep_prob=keep_prob)\n",
    "    x = fully_conn(x, 512)\n",
    "    x = tf.nn.dropout(x, keep_prob=keep_prob)\n",
    "    \n",
    "    \n",
    "    # TODO: Apply an Output Layer\n",
    "    #    Set this to the number of classes\n",
    "    # Function Definition from Above:\n",
    "    #   output(x_tensor, num_outputs)\n",
    "    x = output(x, 10)\n",
    "    \n",
    "    \n",
    "    # TODO: return output\n",
    "    return x\n",
    "\n",
    "\n",
    "\"\"\"\n",
    "DON'T MODIFY ANYTHING IN THIS CELL THAT IS BELOW THIS LINE\n",
    "\"\"\"\n",
    "\n",
    "##############################\n",
    "## Build the Neural Network ##\n",
    "##############################\n",
    "\n",
    "# Remove previous weights, bias, inputs, etc..\n",
    "tf.reset_default_graph()\n",
    "\n",
    "# Inputs\n",
    "x = neural_net_image_input((32, 32, 3))\n",
    "y = neural_net_label_input(10)\n",
    "keep_prob = neural_net_keep_prob_input()\n",
    "\n",
    "# Model\n",
    "logits = conv_net(x, keep_prob)\n",
    "\n",
    "# Name logits Tensor, so that is can be loaded from disk after training\n",
    "logits = tf.identity(logits, name='logits')\n",
    "\n",
    "# Loss and Optimizer\n",
    "cost = tf.reduce_mean(tf.nn.softmax_cross_entropy_with_logits(logits=logits, labels=y))\n",
    "optimizer = tf.train.AdamOptimizer().minimize(cost)\n",
    "\n",
    "# Accuracy\n",
    "correct_pred = tf.equal(tf.argmax(logits, 1), tf.argmax(y, 1))\n",
    "accuracy = tf.reduce_mean(tf.cast(correct_pred, tf.float32), name='accuracy')\n",
    "\n",
    "tests.test_conv_net(conv_net)"
   ]
  },
  {
   "cell_type": "markdown",
   "metadata": {},
   "source": [
    "## Train the Neural Network\n",
    "### Single Optimization\n",
    "Implement the function `train_neural_network` to do a single optimization.  The optimization should use `optimizer` to optimize in `session` with a `feed_dict` of the following:\n",
    "* `x` for image input\n",
    "* `y` for labels\n",
    "* `keep_prob` for keep probability for dropout\n",
    "\n",
    "This function will be called for each batch, so `tf.global_variables_initializer()` has already been called.\n",
    "\n",
    "Note: Nothing needs to be returned. This function is only optimizing the neural network."
   ]
  },
  {
   "cell_type": "code",
   "execution_count": 45,
   "metadata": {},
   "outputs": [
    {
     "name": "stdout",
     "output_type": "stream",
     "text": [
      "Tests Passed\n"
     ]
    }
   ],
   "source": [
    "def train_neural_network(session, optimizer, keep_probability, feature_batch, label_batch):\n",
    "    \"\"\"\n",
    "    Optimize the session on a batch of images and labels\n",
    "    : session: Current TensorFlow session\n",
    "    : optimizer: TensorFlow optimizer function\n",
    "    : keep_probability: keep probability\n",
    "    : feature_batch: Batch of Numpy image data\n",
    "    : label_batch: Batch of Numpy label data\n",
    "    \"\"\"\n",
    "    # TODO: Implement Function\n",
    "    session.run(optimizer, feed_dict={x: feature_batch, y: label_batch, keep_prob: keep_probability})\n",
    "\n",
    "\n",
    "\"\"\"\n",
    "DON'T MODIFY ANYTHING IN THIS CELL THAT IS BELOW THIS LINE\n",
    "\"\"\"\n",
    "tests.test_train_nn(train_neural_network)"
   ]
  },
  {
   "cell_type": "markdown",
   "metadata": {},
   "source": [
    "### Show Stats\n",
    "Implement the function `print_stats` to print loss and validation accuracy.  Use the global variables `valid_features` and `valid_labels` to calculate validation accuracy.  Use a keep probability of `1.0` to calculate the loss and validation accuracy."
   ]
  },
  {
   "cell_type": "code",
   "execution_count": 46,
   "metadata": {
    "collapsed": true
   },
   "outputs": [],
   "source": [
    "def print_stats(session, feature_batch, label_batch, cost, accuracy):\n",
    "    \"\"\"\n",
    "    Print information about loss and validation accuracy\n",
    "    : session: Current TensorFlow session\n",
    "    : feature_batch: Batch of Numpy image data\n",
    "    : label_batch: Batch of Numpy label data\n",
    "    : cost: TensorFlow cost function\n",
    "    : accuracy: TensorFlow accuracy function\n",
    "    \"\"\"\n",
    "    # TODO: Implement Function\n",
    "    loss = session.run(cost, feed_dict={x: feature_batch, y: label_batch, keep_prob: 1.0})\n",
    "    acc = session.run(accuracy, feed_dict={x: valid_features, y: valid_labels, keep_prob: 1.0})\n",
    "    print('Loss={0} Accuracy={1}'.format(loss, acc))\n",
    "    "
   ]
  },
  {
   "cell_type": "markdown",
   "metadata": {},
   "source": [
    "### Hyperparameters\n",
    "Tune the following parameters:\n",
    "* Set `epochs` to the number of iterations until the network stops learning or start overfitting\n",
    "* Set `batch_size` to the highest number that your machine has memory for.  Most people set them to common sizes of memory:\n",
    " * 64\n",
    " * 128\n",
    " * 256\n",
    " * ...\n",
    "* Set `keep_probability` to the probability of keeping a node using dropout"
   ]
  },
  {
   "cell_type": "code",
   "execution_count": 47,
   "metadata": {
    "collapsed": true
   },
   "outputs": [],
   "source": [
    "# TODO: Tune Parameters\n",
    "epochs = 25\n",
    "batch_size = 1028\n",
    "keep_probability = 0.7"
   ]
  },
  {
   "cell_type": "markdown",
   "metadata": {},
   "source": [
    "### Train on a Single CIFAR-10 Batch\n",
    "Instead of training the neural network on all the CIFAR-10 batches of data, let's use a single batch. This should save time while you iterate on the model to get a better accuracy.  Once the final validation accuracy is 50% or greater, run the model on all the data in the next section."
   ]
  },
  {
   "cell_type": "code",
   "execution_count": 48,
   "metadata": {},
   "outputs": [
    {
     "name": "stdout",
     "output_type": "stream",
     "text": [
      "Checking the Training on a Single Batch...\n",
      "Epoch  1, CIFAR-10 Batch 1:  Loss=2.2678253650665283 Accuracy=0.19900000095367432\n",
      "Epoch  2, CIFAR-10 Batch 1:  Loss=2.2116219997406006 Accuracy=0.16859999299049377\n",
      "Epoch  3, CIFAR-10 Batch 1:  Loss=2.0635595321655273 Accuracy=0.29820001125335693\n",
      "Epoch  4, CIFAR-10 Batch 1:  Loss=1.8952771425247192 Accuracy=0.3447999954223633\n",
      "Epoch  5, CIFAR-10 Batch 1:  Loss=1.75478196144104 Accuracy=0.3774000108242035\n",
      "Epoch  6, CIFAR-10 Batch 1:  Loss=1.6813404560089111 Accuracy=0.3952000141143799\n",
      "Epoch  7, CIFAR-10 Batch 1:  Loss=1.5924957990646362 Accuracy=0.41819998621940613\n",
      "Epoch  8, CIFAR-10 Batch 1:  Loss=1.5318821668624878 Accuracy=0.4269999861717224\n",
      "Epoch  9, CIFAR-10 Batch 1:  Loss=1.4672914743423462 Accuracy=0.4399999976158142\n",
      "Epoch 10, CIFAR-10 Batch 1:  Loss=1.4182345867156982 Accuracy=0.44859999418258667\n",
      "Epoch 11, CIFAR-10 Batch 1:  Loss=1.3727378845214844 Accuracy=0.45500001311302185\n",
      "Epoch 12, CIFAR-10 Batch 1:  Loss=1.3229888677597046 Accuracy=0.46700000762939453\n",
      "Epoch 13, CIFAR-10 Batch 1:  Loss=1.2862656116485596 Accuracy=0.4742000102996826\n",
      "Epoch 14, CIFAR-10 Batch 1:  Loss=1.2435444593429565 Accuracy=0.47540000081062317\n",
      "Epoch 15, CIFAR-10 Batch 1:  Loss=1.1967099905014038 Accuracy=0.4781999886035919\n",
      "Epoch 16, CIFAR-10 Batch 1:  Loss=1.1550079584121704 Accuracy=0.49639999866485596\n",
      "Epoch 17, CIFAR-10 Batch 1:  Loss=1.1093931198120117 Accuracy=0.49320000410079956\n",
      "Epoch 18, CIFAR-10 Batch 1:  Loss=1.0780720710754395 Accuracy=0.49459999799728394\n",
      "Epoch 19, CIFAR-10 Batch 1:  Loss=1.028139591217041 Accuracy=0.49900001287460327\n",
      "Epoch 20, CIFAR-10 Batch 1:  Loss=1.0051440000534058 Accuracy=0.498199999332428\n",
      "Epoch 21, CIFAR-10 Batch 1:  Loss=0.9642629027366638 Accuracy=0.5\n",
      "Epoch 22, CIFAR-10 Batch 1:  Loss=0.9134295582771301 Accuracy=0.5022000074386597\n",
      "Epoch 23, CIFAR-10 Batch 1:  Loss=0.8776695132255554 Accuracy=0.5052000284194946\n",
      "Epoch 24, CIFAR-10 Batch 1:  Loss=0.8491290211677551 Accuracy=0.504800021648407\n",
      "Epoch 25, CIFAR-10 Batch 1:  Loss=0.8140968084335327 Accuracy=0.5098000168800354\n"
     ]
    }
   ],
   "source": [
    "\"\"\"\n",
    "DON'T MODIFY ANYTHING IN THIS CELL\n",
    "\"\"\"\n",
    "print('Checking the Training on a Single Batch...')\n",
    "with tf.Session() as sess:\n",
    "    # Initializing the variables\n",
    "    sess.run(tf.global_variables_initializer())\n",
    "    \n",
    "    # Training cycle\n",
    "    for epoch in range(epochs):\n",
    "        batch_i = 1\n",
    "        for batch_features, batch_labels in helper.load_preprocess_training_batch(batch_i, batch_size):\n",
    "            train_neural_network(sess, optimizer, keep_probability, batch_features, batch_labels)\n",
    "        print('Epoch {:>2}, CIFAR-10 Batch {}:  '.format(epoch + 1, batch_i), end='')\n",
    "        print_stats(sess, batch_features, batch_labels, cost, accuracy)"
   ]
  },
  {
   "cell_type": "markdown",
   "metadata": {},
   "source": [
    "### Fully Train the Model\n",
    "Now that you got a good accuracy with a single CIFAR-10 batch, try it with all five batches."
   ]
  },
  {
   "cell_type": "code",
   "execution_count": 49,
   "metadata": {},
   "outputs": [
    {
     "name": "stdout",
     "output_type": "stream",
     "text": [
      "Training...\n",
      "Epoch  1, CIFAR-10 Batch 1:  Loss=2.227215528488159 Accuracy=0.19380000233650208\n",
      "Epoch  1, CIFAR-10 Batch 2:  Loss=2.1232593059539795 Accuracy=0.2897999882698059\n",
      "Epoch  1, CIFAR-10 Batch 3:  Loss=1.8246041536331177 Accuracy=0.3386000096797943\n",
      "Epoch  1, CIFAR-10 Batch 4:  Loss=1.746925950050354 Accuracy=0.36239999532699585\n",
      "Epoch  1, CIFAR-10 Batch 5:  Loss=1.7160500288009644 Accuracy=0.38440001010894775\n",
      "Epoch  2, CIFAR-10 Batch 1:  Loss=1.6705559492111206 Accuracy=0.39879998564720154\n",
      "Epoch  2, CIFAR-10 Batch 2:  Loss=1.622480869293213 Accuracy=0.42239999771118164\n",
      "Epoch  2, CIFAR-10 Batch 3:  Loss=1.5277941226959229 Accuracy=0.42579999566078186\n",
      "Epoch  2, CIFAR-10 Batch 4:  Loss=1.5067245960235596 Accuracy=0.4381999969482422\n",
      "Epoch  2, CIFAR-10 Batch 5:  Loss=1.5068358182907104 Accuracy=0.4553999900817871\n",
      "Epoch  3, CIFAR-10 Batch 1:  Loss=1.4961881637573242 Accuracy=0.454800009727478\n",
      "Epoch  3, CIFAR-10 Batch 2:  Loss=1.4712839126586914 Accuracy=0.47200000286102295\n",
      "Epoch  3, CIFAR-10 Batch 3:  Loss=1.3934375047683716 Accuracy=0.4699999988079071\n",
      "Epoch  3, CIFAR-10 Batch 4:  Loss=1.3784692287445068 Accuracy=0.47859999537467957\n",
      "Epoch  3, CIFAR-10 Batch 5:  Loss=1.3715771436691284 Accuracy=0.4941999912261963\n",
      "Epoch  4, CIFAR-10 Batch 1:  Loss=1.3723106384277344 Accuracy=0.48919999599456787\n",
      "Epoch  4, CIFAR-10 Batch 2:  Loss=1.37068510055542 Accuracy=0.5120000243186951\n",
      "Epoch  4, CIFAR-10 Batch 3:  Loss=1.3046282529830933 Accuracy=0.5077999830245972\n",
      "Epoch  4, CIFAR-10 Batch 4:  Loss=1.2849870920181274 Accuracy=0.5116000175476074\n",
      "Epoch  4, CIFAR-10 Batch 5:  Loss=1.2752318382263184 Accuracy=0.5149999856948853\n",
      "Epoch  5, CIFAR-10 Batch 1:  Loss=1.2958705425262451 Accuracy=0.5130000114440918\n",
      "Epoch  5, CIFAR-10 Batch 2:  Loss=1.3004714250564575 Accuracy=0.5180000066757202\n",
      "Epoch  5, CIFAR-10 Batch 3:  Loss=1.233651041984558 Accuracy=0.5315999984741211\n",
      "Epoch  5, CIFAR-10 Batch 4:  Loss=1.2210042476654053 Accuracy=0.5235999822616577\n",
      "Epoch  5, CIFAR-10 Batch 5:  Loss=1.179133415222168 Accuracy=0.5351999998092651\n",
      "Epoch  6, CIFAR-10 Batch 1:  Loss=1.2069834470748901 Accuracy=0.532800018787384\n",
      "Epoch  6, CIFAR-10 Batch 2:  Loss=1.218011498451233 Accuracy=0.5411999821662903\n",
      "Epoch  6, CIFAR-10 Batch 3:  Loss=1.1821802854537964 Accuracy=0.5424000024795532\n",
      "Epoch  6, CIFAR-10 Batch 4:  Loss=1.1509146690368652 Accuracy=0.5396000146865845\n",
      "Epoch  6, CIFAR-10 Batch 5:  Loss=1.1177822351455688 Accuracy=0.5361999869346619\n",
      "Epoch  7, CIFAR-10 Batch 1:  Loss=1.1490486860275269 Accuracy=0.5440000295639038\n",
      "Epoch  7, CIFAR-10 Batch 2:  Loss=1.1698609590530396 Accuracy=0.5483999848365784\n",
      "Epoch  7, CIFAR-10 Batch 3:  Loss=1.1129186153411865 Accuracy=0.5533999800682068\n",
      "Epoch  7, CIFAR-10 Batch 4:  Loss=1.090410828590393 Accuracy=0.5523999929428101\n",
      "Epoch  7, CIFAR-10 Batch 5:  Loss=1.0599520206451416 Accuracy=0.545199990272522\n",
      "Epoch  8, CIFAR-10 Batch 1:  Loss=1.0869816541671753 Accuracy=0.5580000281333923\n",
      "Epoch  8, CIFAR-10 Batch 2:  Loss=1.1131699085235596 Accuracy=0.5580000281333923\n",
      "Epoch  8, CIFAR-10 Batch 3:  Loss=1.0520025491714478 Accuracy=0.5669999718666077\n",
      "Epoch  8, CIFAR-10 Batch 4:  Loss=1.0430052280426025 Accuracy=0.5582000017166138\n",
      "Epoch  8, CIFAR-10 Batch 5:  Loss=1.0025407075881958 Accuracy=0.5626000165939331\n",
      "Epoch  9, CIFAR-10 Batch 1:  Loss=1.0449241399765015 Accuracy=0.569599986076355\n",
      "Epoch  9, CIFAR-10 Batch 2:  Loss=1.0555638074874878 Accuracy=0.5712000131607056\n",
      "Epoch  9, CIFAR-10 Batch 3:  Loss=1.0047131776809692 Accuracy=0.5702000260353088\n",
      "Epoch  9, CIFAR-10 Batch 4:  Loss=0.987218976020813 Accuracy=0.5703999996185303\n",
      "Epoch  9, CIFAR-10 Batch 5:  Loss=0.9446752667427063 Accuracy=0.5676000118255615\n",
      "Epoch 10, CIFAR-10 Batch 1:  Loss=0.9855290055274963 Accuracy=0.5727999806404114\n",
      "Epoch 10, CIFAR-10 Batch 2:  Loss=1.0198948383331299 Accuracy=0.5763999819755554\n",
      "Epoch 10, CIFAR-10 Batch 3:  Loss=0.9596188068389893 Accuracy=0.576200008392334\n",
      "Epoch 10, CIFAR-10 Batch 4:  Loss=0.9515368342399597 Accuracy=0.5727999806404114\n",
      "Epoch 10, CIFAR-10 Batch 5:  Loss=0.9053778648376465 Accuracy=0.5717999935150146\n",
      "Epoch 11, CIFAR-10 Batch 1:  Loss=0.9517945647239685 Accuracy=0.5753999948501587\n",
      "Epoch 11, CIFAR-10 Batch 2:  Loss=0.995221734046936 Accuracy=0.5848000049591064\n",
      "Epoch 11, CIFAR-10 Batch 3:  Loss=0.906307578086853 Accuracy=0.5853999853134155\n",
      "Epoch 11, CIFAR-10 Batch 4:  Loss=0.8824623227119446 Accuracy=0.5802000164985657\n",
      "Epoch 11, CIFAR-10 Batch 5:  Loss=0.8495769500732422 Accuracy=0.5759999752044678\n",
      "Epoch 12, CIFAR-10 Batch 1:  Loss=0.8868401646614075 Accuracy=0.5827999711036682\n",
      "Epoch 12, CIFAR-10 Batch 2:  Loss=0.9565649032592773 Accuracy=0.5834000110626221\n",
      "Epoch 12, CIFAR-10 Batch 3:  Loss=0.8561448454856873 Accuracy=0.5888000130653381\n",
      "Epoch 12, CIFAR-10 Batch 4:  Loss=0.8339466452598572 Accuracy=0.5902000069618225\n",
      "Epoch 12, CIFAR-10 Batch 5:  Loss=0.8394812941551208 Accuracy=0.574999988079071\n",
      "Epoch 13, CIFAR-10 Batch 1:  Loss=0.878445029258728 Accuracy=0.5809999704360962\n",
      "Epoch 13, CIFAR-10 Batch 2:  Loss=0.8770784735679626 Accuracy=0.5889999866485596\n",
      "Epoch 13, CIFAR-10 Batch 3:  Loss=0.8106122612953186 Accuracy=0.5953999757766724\n",
      "Epoch 13, CIFAR-10 Batch 4:  Loss=0.8198376893997192 Accuracy=0.5898000001907349\n",
      "Epoch 13, CIFAR-10 Batch 5:  Loss=0.8156548738479614 Accuracy=0.5703999996185303\n",
      "Epoch 14, CIFAR-10 Batch 1:  Loss=0.8111564517021179 Accuracy=0.5925999879837036\n",
      "Epoch 14, CIFAR-10 Batch 2:  Loss=0.8441969156265259 Accuracy=0.5916000008583069\n",
      "Epoch 14, CIFAR-10 Batch 3:  Loss=0.7787796258926392 Accuracy=0.5888000130653381\n",
      "Epoch 14, CIFAR-10 Batch 4:  Loss=0.791158139705658 Accuracy=0.5899999737739563\n",
      "Epoch 14, CIFAR-10 Batch 5:  Loss=0.7359657883644104 Accuracy=0.6007999777793884\n",
      "Epoch 15, CIFAR-10 Batch 1:  Loss=0.7619284987449646 Accuracy=0.5985999703407288\n",
      "Epoch 15, CIFAR-10 Batch 2:  Loss=0.7844139337539673 Accuracy=0.5964000225067139\n",
      "Epoch 15, CIFAR-10 Batch 3:  Loss=0.715108335018158 Accuracy=0.6051999926567078\n",
      "Epoch 15, CIFAR-10 Batch 4:  Loss=0.7397950291633606 Accuracy=0.598800003528595\n",
      "Epoch 15, CIFAR-10 Batch 5:  Loss=0.6992852091789246 Accuracy=0.6000000238418579\n",
      "Epoch 16, CIFAR-10 Batch 1:  Loss=0.7254251837730408 Accuracy=0.5968000292778015\n",
      "Epoch 16, CIFAR-10 Batch 2:  Loss=0.7443188428878784 Accuracy=0.5979999899864197\n",
      "Epoch 16, CIFAR-10 Batch 3:  Loss=0.6683453321456909 Accuracy=0.6032000184059143\n",
      "Epoch 16, CIFAR-10 Batch 4:  Loss=0.688605785369873 Accuracy=0.6014000177383423\n",
      "Epoch 16, CIFAR-10 Batch 5:  Loss=0.6684345602989197 Accuracy=0.5946000218391418\n",
      "Epoch 17, CIFAR-10 Batch 1:  Loss=0.689943790435791 Accuracy=0.5997999906539917\n",
      "Epoch 17, CIFAR-10 Batch 2:  Loss=0.6867018342018127 Accuracy=0.6010000109672546\n",
      "Epoch 17, CIFAR-10 Batch 3:  Loss=0.6294984817504883 Accuracy=0.6101999878883362\n",
      "Epoch 17, CIFAR-10 Batch 4:  Loss=0.6629970073699951 Accuracy=0.599399983882904\n",
      "Epoch 17, CIFAR-10 Batch 5:  Loss=0.6153281927108765 Accuracy=0.6047999858856201\n",
      "Epoch 18, CIFAR-10 Batch 1:  Loss=0.6571553945541382 Accuracy=0.6033999919891357\n",
      "Epoch 18, CIFAR-10 Batch 2:  Loss=0.6542311310768127 Accuracy=0.6087999939918518\n",
      "Epoch 18, CIFAR-10 Batch 3:  Loss=0.6049143075942993 Accuracy=0.6086000204086304\n",
      "Epoch 18, CIFAR-10 Batch 4:  Loss=0.6221103072166443 Accuracy=0.6025999784469604\n",
      "Epoch 18, CIFAR-10 Batch 5:  Loss=0.5703140497207642 Accuracy=0.6119999885559082\n",
      "Epoch 19, CIFAR-10 Batch 1:  Loss=0.604586660861969 Accuracy=0.6079999804496765\n",
      "Epoch 19, CIFAR-10 Batch 2:  Loss=0.6102892160415649 Accuracy=0.6097999811172485\n",
      "Epoch 19, CIFAR-10 Batch 3:  Loss=0.5766946077346802 Accuracy=0.5996000170707703\n",
      "Epoch 19, CIFAR-10 Batch 4:  Loss=0.6003541350364685 Accuracy=0.5982000231742859\n",
      "Epoch 19, CIFAR-10 Batch 5:  Loss=0.5415174961090088 Accuracy=0.6186000108718872\n",
      "Epoch 20, CIFAR-10 Batch 1:  Loss=0.6221625804901123 Accuracy=0.6021999716758728\n",
      "Epoch 20, CIFAR-10 Batch 2:  Loss=0.5898570418357849 Accuracy=0.6083999872207642\n",
      "Epoch 20, CIFAR-10 Batch 3:  Loss=0.5392284989356995 Accuracy=0.6029999852180481\n",
      "Epoch 20, CIFAR-10 Batch 4:  Loss=0.5520735383033752 Accuracy=0.618399977684021\n",
      "Epoch 20, CIFAR-10 Batch 5:  Loss=0.5028740763664246 Accuracy=0.616599977016449\n",
      "Epoch 21, CIFAR-10 Batch 1:  Loss=0.5498616099357605 Accuracy=0.6151999831199646\n",
      "Epoch 21, CIFAR-10 Batch 2:  Loss=0.606425404548645 Accuracy=0.592199981212616\n",
      "Epoch 21, CIFAR-10 Batch 3:  Loss=0.5016165375709534 Accuracy=0.6126000285148621\n",
      "Epoch 21, CIFAR-10 Batch 4:  Loss=0.5188541412353516 Accuracy=0.6136000156402588\n",
      "Epoch 21, CIFAR-10 Batch 5:  Loss=0.4823620319366455 Accuracy=0.6104000210762024\n",
      "Epoch 22, CIFAR-10 Batch 1:  Loss=0.5044823288917542 Accuracy=0.6146000027656555\n",
      "Epoch 22, CIFAR-10 Batch 2:  Loss=0.5449225902557373 Accuracy=0.5979999899864197\n",
      "Epoch 22, CIFAR-10 Batch 3:  Loss=0.4825197458267212 Accuracy=0.6068000197410583\n",
      "Epoch 22, CIFAR-10 Batch 4:  Loss=0.49257755279541016 Accuracy=0.6144000291824341\n",
      "Epoch 22, CIFAR-10 Batch 5:  Loss=0.4604779779911041 Accuracy=0.6057999730110168\n",
      "Epoch 23, CIFAR-10 Batch 1:  Loss=0.4804708659648895 Accuracy=0.6119999885559082\n",
      "Epoch 23, CIFAR-10 Batch 2:  Loss=0.5241326689720154 Accuracy=0.6021999716758728\n",
      "Epoch 23, CIFAR-10 Batch 3:  Loss=0.44546186923980713 Accuracy=0.6039999723434448\n",
      "Epoch 23, CIFAR-10 Batch 4:  Loss=0.44168105721473694 Accuracy=0.6128000020980835\n",
      "Epoch 23, CIFAR-10 Batch 5:  Loss=0.4307118058204651 Accuracy=0.6083999872207642\n",
      "Epoch 24, CIFAR-10 Batch 1:  Loss=0.48828041553497314 Accuracy=0.6086000204086304\n",
      "Epoch 24, CIFAR-10 Batch 2:  Loss=0.46949681639671326 Accuracy=0.6097999811172485\n",
      "Epoch 24, CIFAR-10 Batch 3:  Loss=0.4222080111503601 Accuracy=0.6078000068664551\n",
      "Epoch 24, CIFAR-10 Batch 4:  Loss=0.4321131706237793 Accuracy=0.6151999831199646\n",
      "Epoch 24, CIFAR-10 Batch 5:  Loss=0.40060263872146606 Accuracy=0.6114000082015991\n",
      "Epoch 25, CIFAR-10 Batch 1:  Loss=0.4213232100009918 Accuracy=0.6110000014305115\n",
      "Epoch 25, CIFAR-10 Batch 2:  Loss=0.5166749954223633 Accuracy=0.5928000211715698\n",
      "Epoch 25, CIFAR-10 Batch 3:  Loss=0.4550773501396179 Accuracy=0.5943999886512756\n",
      "Epoch 25, CIFAR-10 Batch 4:  Loss=0.4274151921272278 Accuracy=0.6173999905586243\n",
      "Epoch 25, CIFAR-10 Batch 5:  Loss=0.4161296784877777 Accuracy=0.5929999947547913\n"
     ]
    }
   ],
   "source": [
    "\"\"\"\n",
    "DON'T MODIFY ANYTHING IN THIS CELL\n",
    "\"\"\"\n",
    "save_model_path = './image_classification'\n",
    "\n",
    "print('Training...')\n",
    "with tf.Session() as sess:\n",
    "    # Initializing the variables\n",
    "    sess.run(tf.global_variables_initializer())\n",
    "    \n",
    "    # Training cycle\n",
    "    for epoch in range(epochs):\n",
    "        # Loop over all batches\n",
    "        n_batches = 5\n",
    "        for batch_i in range(1, n_batches + 1):\n",
    "            for batch_features, batch_labels in helper.load_preprocess_training_batch(batch_i, batch_size):\n",
    "                train_neural_network(sess, optimizer, keep_probability, batch_features, batch_labels)\n",
    "            print('Epoch {:>2}, CIFAR-10 Batch {}:  '.format(epoch + 1, batch_i), end='')\n",
    "            print_stats(sess, batch_features, batch_labels, cost, accuracy)\n",
    "            \n",
    "    # Save Model\n",
    "    saver = tf.train.Saver()\n",
    "    save_path = saver.save(sess, save_model_path)"
   ]
  },
  {
   "cell_type": "markdown",
   "metadata": {},
   "source": [
    "# Checkpoint\n",
    "The model has been saved to disk.\n",
    "## Test Model\n",
    "Test your model against the test dataset.  This will be your final accuracy. You should have an accuracy greater than 50%. If you don't, keep tweaking the model architecture and parameters."
   ]
  },
  {
   "cell_type": "code",
   "execution_count": 50,
   "metadata": {},
   "outputs": [
    {
     "name": "stdout",
     "output_type": "stream",
     "text": [
      "INFO:tensorflow:Restoring parameters from ./image_classification\n",
      "Testing Accuracy: 0.5947429180145264\n",
      "\n"
     ]
    },
    {
     "data": {
      "image/png": "[encoded data removed]",
      "text/plain": [
       "<matplotlib.figure.Figure at 0x1231d5748>"
      ]
     },
     "metadata": {
      "image/png": {
       "height": 319,
       "width": 355
      }
     },
     "output_type": "display_data"
    }
   ],
   "source": [
    "\"\"\"\n",
    "DON'T MODIFY ANYTHING IN THIS CELL\n",
    "\"\"\"\n",
    "%matplotlib inline\n",
    "%config InlineBackend.figure_format = 'retina'\n",
    "\n",
    "import tensorflow as tf\n",
    "import pickle\n",
    "import helper\n",
    "import random\n",
    "\n",
    "# Set batch size if not already set\n",
    "try:\n",
    "    if batch_size:\n",
    "        pass\n",
    "except NameError:\n",
    "    batch_size = 64\n",
    "\n",
    "save_model_path = './image_classification'\n",
    "n_samples = 4\n",
    "top_n_predictions = 3\n",
    "\n",
    "def test_model():\n",
    "    \"\"\"\n",
    "    Test the saved model against the test dataset\n",
    "    \"\"\"\n",
    "\n",
    "    test_features, test_labels = pickle.load(open('preprocess_test.p', mode='rb'))\n",
    "    loaded_graph = tf.Graph()\n",
    "\n",
    "    with tf.Session(graph=loaded_graph) as sess:\n",
    "        # Load model\n",
    "        loader = tf.train.import_meta_graph(save_model_path + '.meta')\n",
    "        loader.restore(sess, save_model_path)\n",
    "\n",
    "        # Get Tensors from loaded model\n",
    "        loaded_x = loaded_graph.get_tensor_by_name('x:0')\n",
    "        loaded_y = loaded_graph.get_tensor_by_name('y:0')\n",
    "        loaded_keep_prob = loaded_graph.get_tensor_by_name('keep_prob:0')\n",
    "        loaded_logits = loaded_graph.get_tensor_by_name('logits:0')\n",
    "        loaded_acc = loaded_graph.get_tensor_by_name('accuracy:0')\n",
    "        \n",
    "        # Get accuracy in batches for memory limitations\n",
    "        test_batch_acc_total = 0\n",
    "        test_batch_count = 0\n",
    "        \n",
    "        for test_feature_batch, test_label_batch in helper.batch_features_labels(test_features, test_labels, batch_size):\n",
    "            test_batch_acc_total += sess.run(\n",
    "                loaded_acc,\n",
    "                feed_dict={loaded_x: test_feature_batch, loaded_y: test_label_batch, loaded_keep_prob: 1.0})\n",
    "            test_batch_count += 1\n",
    "\n",
    "        print('Testing Accuracy: {}\\n'.format(test_batch_acc_total/test_batch_count))\n",
    "\n",
    "        # Print Random Samples\n",
    "        random_test_features, random_test_labels = tuple(zip(*random.sample(list(zip(test_features, test_labels)), n_samples)))\n",
    "        random_test_predictions = sess.run(\n",
    "            tf.nn.top_k(tf.nn.softmax(loaded_logits), top_n_predictions),\n",
    "            feed_dict={loaded_x: random_test_features, loaded_y: random_test_labels, loaded_keep_prob: 1.0})\n",
    "        helper.display_image_predictions(random_test_features, random_test_labels, random_test_predictions)\n",
    "\n",
    "\n",
    "test_model()"
   ]
  },
  {
   "cell_type": "markdown",
   "metadata": {},
   "source": [
    "## Why 50-80% Accuracy?\n",
    "You might be wondering why you can't get an accuracy any higher. First things first, 50% isn't bad for a simple CNN.  Pure guessing would get you 10% accuracy. However, you might notice people are getting scores [well above 80%](http://rodrigob.github.io/are_we_there_yet/build/classification_datasets_results.html#43494641522d3130).  That's because we haven't taught you all there is to know about neural networks. We still need to cover a few more techniques.\n",
    "## Submitting This Project\n",
    "When submitting this project, make sure to run all the cells before saving the notebook.  Save the notebook file as \"dlnd_image_classification.ipynb\" and save it as a HTML file under \"File\" -> \"Download as\".  Include the \"helper.py\" and \"problem_unittests.py\" files in your submission."
   ]
  }
 ],
 "metadata": {
  "kernelspec": {
   "display_name": "Python 3",
   "language": "python",
   "name": "python3"
  },
  "language_info": {
   "codemirror_mode": {
    "name": "ipython",
    "version": 3
   },
   "file_extension": ".py",
   "mimetype": "text/x-python",
   "name": "python",
   "nbconvert_exporter": "python",
   "pygments_lexer": "ipython3",
   "version": "3.6.1"
  }
 },
 "nbformat": 4,
 "nbformat_minor": 1
}
